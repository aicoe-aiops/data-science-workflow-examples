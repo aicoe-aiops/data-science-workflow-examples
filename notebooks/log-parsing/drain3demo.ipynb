{
 "cells": [
  {
   "cell_type": "markdown",
   "metadata": {},
   "source": [
    "# IBM Drain3 Demo\n",
    "\n",
    "Logs are an effective source of data to understand system health and behavior. However, they can often be long and noisy, which makes it difficult for a human to manually analyze them.\n",
    "\n",
    "In 2017, the [LogPAI](https://github.com/logpai) team developed an online log parsing algorithm called [Drain](https://github.com/logpai/logparser/blob/e8d96cd4de1121c5d2b517982c6028cd06e643f1/docs/tools/Drain.md), that parses logs to extract \"log templates\" from them. Using these log templates instead of raw logs makes it much easier and faster to analyze log data. The IBM research team then upgraded the official implementation of this project, added some new features and bugfixes, and wrapped it into a python package called [drain3](https://github.com/IBM/Drain3).\n",
    "\n",
    "In this notebook, we will demonstrate how you can use the IBM drain3 library can be to extract log templates from raw logs data. "
   ]
  },
  {
   "cell_type": "code",
   "execution_count": 1,
   "metadata": {},
   "outputs": [],
   "source": [
    "import requests\n",
    "from drain3 import TemplateMiner"
   ]
  },
  {
   "cell_type": "code",
   "execution_count": 2,
   "metadata": {},
   "outputs": [
    {
     "data": {
      "text/plain": [
       "200"
      ]
     },
     "execution_count": 2,
     "metadata": {},
     "output_type": "execute_result"
    }
   ],
   "source": [
    "# download sample log file\n",
    "url = 'https://raw.githubusercontent.com/logpai/loghub/master/Apache/Apache_2k.log'\n",
    "ret = requests.get(url)\n",
    "ret.status_code"
   ]
  },
  {
   "cell_type": "code",
   "execution_count": 3,
   "metadata": {},
   "outputs": [
    {
     "name": "stdout",
     "output_type": "stream",
     "text": [
      "There are 2000 lines in the log file. Some of them are:\n",
      "\n",
      "[Sun Dec 04 04:47:44 2005] [notice] workerEnv.init() ok /etc/httpd/conf/workers2.properties\n",
      "[Sun Dec 04 04:47:44 2005] [error] mod_jk child workerEnv in error state 6\n",
      "[Sun Dec 04 04:51:08 2005] [notice] jk2_init() Found child 6725 in scoreboard slot 10\n",
      "[Sun Dec 04 04:51:09 2005] [notice] jk2_init() Found child 6726 in scoreboard slot 8\n",
      "[Sun Dec 04 04:51:09 2005] [notice] jk2_init() Found child 6728 in scoreboard slot 6\n",
      "[Sun Dec 04 04:51:14 2005] [notice] workerEnv.init() ok /etc/httpd/conf/workers2.properties\n",
      "[Sun Dec 04 04:51:14 2005] [notice] workerEnv.init() ok /etc/httpd/conf/workers2.properties\n",
      "[Sun Dec 04 04:51:14 2005] [notice] workerEnv.init() ok /etc/httpd/conf/workers2.properties\n",
      "[Sun Dec 04 04:51:18 2005] [error] mod_jk child workerEnv in error state 6\n",
      "[Sun Dec 04 04:51:18 2005] [error] mod_jk child workerEnv in error state 6\n"
     ]
    }
   ],
   "source": [
    "# read the log file and convert to list of log lines\n",
    "log_file = ret.content.decode(\"utf-8\")\n",
    "log_lines = log_file.split(sep='\\n')\n",
    "\n",
    "# split into two sets for \"training\" and \"testing\"\n",
    "train_lines = log_lines[:1900]\n",
    "test_lines = log_lines[-100:]\n",
    "\n",
    "# how many lines in the log file\n",
    "print(f'There are {len(log_lines)} lines in the log file. Some of them are:', end='\\n\\n')\n",
    "\n",
    "# peek at the first 10 lines in the log\n",
    "print('\\n'.join(log_lines[:10]))"
   ]
  },
  {
   "cell_type": "markdown",
   "metadata": {},
   "source": [
    "## Perform Template Mining with Default Configuration\n",
    "\n",
    "In this section, we will use drain to mine the log templates from the first 1900 line of the log file.\n",
    "\n",
    "The drain [research paper](http://jiemingzhu.github.io/pub/pjhe_icws2017.pdf) as well as the IBM drain3 repo [readme](https://github.com/IBM/Drain3#configuration) explains the parameters that the drain log parser can be configured with. In this section, we will simply run it with the default parameters. And try to find the log templates that exist in our sample log file."
   ]
  },
  {
   "cell_type": "code",
   "execution_count": 5,
   "metadata": {},
   "outputs": [
    {
     "name": "stdout",
     "output_type": "stream",
     "text": [
      "Drain3 config:\n",
      "\n",
      "profiling_enabled = False\n",
      "profiling_report_sec = 60\n",
      "snapshot_interval_minutes = 5\n",
      "snapshot_compress_state = True\n",
      "drain_extra_delimiters = []\n",
      "drain_sim_th = 0.4\n",
      "drain_depth = 4\n",
      "drain_max_children = 100\n",
      "drain_max_clusters = None\n",
      "masking_instructions = []\n",
      "mask_prefix = <\n",
      "mask_suffix = >\n"
     ]
    }
   ],
   "source": [
    "# init drain3 template miner and view config\n",
    "miner = TemplateMiner()\n",
    "\n",
    "print('Drain3 config:\\n')\n",
    "for k,v in vars(miner.config).items():\n",
    "    print(f'{k} = {v}')"
   ]
  },
  {
   "cell_type": "code",
   "execution_count": 6,
   "metadata": {},
   "outputs": [],
   "source": [
    "# mine templates\n",
    "# notice that the lines are added one by one, as a \"stream\"\n",
    "for line in train_lines:\n",
    "    miner_result = miner.add_log_message(line)"
   ]
  },
  {
   "cell_type": "code",
   "execution_count": 7,
   "metadata": {},
   "outputs": [
    {
     "name": "stdout",
     "output_type": "stream",
     "text": [
      "ID=1     : size=298       : [Sun Dec 04 <*> 2005] [notice] workerEnv.init() ok /etc/httpd/conf/workers2.properties\n",
      "\n",
      "ID=2     : size=281       : [Sun Dec 04 <*> 2005] [error] mod_jk child workerEnv in error state <*>\n",
      "\n",
      "ID=3     : size=442       : [Sun Dec 04 <*> 2005] [notice] jk2_init() Found child <*> in scoreboard slot <*>\n",
      "\n",
      "ID=4     : size=18        : [Sun Dec 04 <*> 2005] [error] [client <*> Directory index forbidden by rule: /var/www/html/\n",
      "\n",
      "ID=5     : size=6         : [Sun Dec 04 <*> 2005] [error] jk2_init() Can't find child <*> in scoreboard\n",
      "\n",
      "ID=6     : size=6         : [Sun Dec 04 <*> 2005] [error] mod_jk child init 1 -2\n",
      "\n",
      "ID=7     : size=12        : [Mon Dec 05 <*> 2005] [error] [client <*> Directory index forbidden by rule: /var/www/html/\n",
      "\n",
      "ID=8     : size=360       : [Mon Dec 05 <*> 2005] [notice] jk2_init() Found child <*> in scoreboard slot <*>\n",
      "\n",
      "ID=9     : size=239       : [Mon Dec 05 <*> 2005] [notice] workerEnv.init() ok /etc/httpd/conf/workers2.properties\n",
      "\n",
      "ID=10    : size=226       : [Mon Dec 05 <*> 2005] [error] mod_jk child workerEnv in error state <*>\n",
      "\n",
      "ID=11    : size=6         : [Mon Dec 05 <*> 2005] [error] jk2_init() Can't find child <*> in scoreboard\n",
      "\n",
      "ID=12    : size=6         : [Mon Dec 05 <*> 2005] [error] mod_jk child init 1 -2\n",
      "\n"
     ]
    }
   ],
   "source": [
    "# what are templates mined in this logfile\n",
    "for c in miner.drain.clusters:\n",
    "    print(c, end='\\n\\n')"
   ]
  },
  {
   "cell_type": "markdown",
   "metadata": {},
   "source": [
    "**RESULT** From the above output, we can see that drain has learned 12 templates from the log. That is, there are only 12 unique general \"structures\" or \"types\" of log lines in our file. So to understand the system behavior, we can simply look at these 12 templates instead of looking at 2000 raw log lines. In this way, drain can significantly reduce the time and effort spent in log file analysis.\n",
    "\n",
    "However, we can see that it could not identify the timestamps at the beginning of each log line as template wildcard items. So in the next sections, we will try to explore how we can update the configuration to further improve template mining."
   ]
  },
  {
   "cell_type": "markdown",
   "metadata": {},
   "source": [
    "## Perform Template Mining with Custom Configurations"
   ]
  },
  {
   "cell_type": "markdown",
   "metadata": {},
   "source": [
    "### Masking Config\n",
    "In this section, we'll run drain with a custom \"masking\" parameter. Since we know what the timestamps look like, we can add a regex to \"mask\" the timestamps so that they do not count as a part of the template learning.\n",
    "\n",
    "To do that, we will create a `drain3.ini` file in the working directory with the following section in it:\n",
    "```\n",
    "[MASKING]\n",
    "masking = [\n",
    "          {\"regex_pattern\": \"\\\\[(.*?)2005\\\\]\", \"mask_with\": \"TIMESTAMP\"}\n",
    "          ]\n",
    "```\n",
    "Notice that here we're just adding one custom regex, but in general you can add a list of regex'es to mask known patterns in log files, as shown in the example [here](https://github.com/IBM/Drain3/blob/15470e391caed9a9ef5038cdd1dbd373bd2386a8/examples/drain3.ini)."
   ]
  },
  {
   "cell_type": "code",
   "execution_count": 14,
   "metadata": {},
   "outputs": [
    {
     "name": "stdout",
     "output_type": "stream",
     "text": [
      "Drain3 config:\n",
      "\n",
      "profiling_enabled = False\n",
      "profiling_report_sec = 60\n",
      "snapshot_interval_minutes = 5\n",
      "snapshot_compress_state = True\n",
      "drain_extra_delimiters = []\n",
      "drain_sim_th = 0.4\n",
      "drain_depth = 4\n",
      "drain_max_children = 100\n",
      "drain_max_clusters = None\n",
      "masking_instructions = [<drain3.masking.MaskingInstruction object at 0x7fe3af09be48>]\n",
      "mask_prefix = <\n",
      "mask_suffix = >\n"
     ]
    }
   ],
   "source": [
    "# init drain3 template miner with new masking config\n",
    "miner = TemplateMiner()\n",
    "\n",
    "print('Drain3 config:\\n')\n",
    "for k,v in vars(miner.config).items():\n",
    "    print(f'{k} = {v}')"
   ]
  },
  {
   "cell_type": "code",
   "execution_count": 15,
   "metadata": {},
   "outputs": [],
   "source": [
    "# mine templates\n",
    "for line in train_lines:\n",
    "    miner_result = miner.add_log_message(line)"
   ]
  },
  {
   "cell_type": "code",
   "execution_count": 16,
   "metadata": {},
   "outputs": [
    {
     "name": "stdout",
     "output_type": "stream",
     "text": [
      "ID=1     : size=537       : <TIMESTAMP> [notice] workerEnv.init() ok /etc/httpd/conf/workers2.properties\n",
      "\n",
      "ID=2     : size=507       : <TIMESTAMP> [error] mod_jk child workerEnv in error state <*>\n",
      "\n",
      "ID=3     : size=802       : <TIMESTAMP> [notice] jk2_init() Found child <*> in scoreboard slot <*>\n",
      "\n",
      "ID=4     : size=30        : <TIMESTAMP> [error] [client <*> Directory index forbidden by rule: /var/www/html/\n",
      "\n",
      "ID=5     : size=12        : <TIMESTAMP> [error] jk2_init() Can't find child <*> in scoreboard\n",
      "\n",
      "ID=6     : size=12        : <TIMESTAMP> [error] mod_jk child init 1 -2\n",
      "\n"
     ]
    }
   ],
   "source": [
    "# what are templates mined in this logfile\n",
    "for c in miner.drain.clusters:\n",
    "    print(c, end='\\n\\n')"
   ]
  },
  {
   "cell_type": "markdown",
   "metadata": {},
   "source": [
    "**RESULT** Great, with the new masking config we were able to generalize the log templates even more. That is, the previous separate templates such as `[Mon Dec 05 <*> 2005] [error] mod_jk child init 1 -2` and `[Sun Dec 04 <*> 2005] [error] mod_jk child init 1 -2`, that differed in just the timestamps, now got clubbed as one single template, `[Sun Dec 04 <*> 2005] [error] mod_jk child init 1 -2`.\n",
    "\n",
    "Thus, now instead of looking at 2000 log lines, we only need to look at 6 log lines to understand system behavior characterized by this log file."
   ]
  },
  {
   "cell_type": "markdown",
   "metadata": {},
   "source": [
    "### Drain3 Config\n",
    "\n",
    "In this section, we'll run drain with a custom \"drain3\" parameter called `similarity threshold`. This parameter dictates how similar a log line has to be to a given template, to be considered as belonging to the same template.\n",
    "\n",
    "To do that, we will add the following section to our `drain3.ini` file:\n",
    "```\n",
    "[DRAIN]\n",
    "sim_th = 0.2\n",
    "```"
   ]
  },
  {
   "cell_type": "code",
   "execution_count": 11,
   "metadata": {},
   "outputs": [
    {
     "name": "stdout",
     "output_type": "stream",
     "text": [
      "Drain3 config:\n",
      "\n",
      "profiling_enabled = False\n",
      "profiling_report_sec = 60\n",
      "snapshot_interval_minutes = 5\n",
      "snapshot_compress_state = True\n",
      "drain_extra_delimiters = []\n",
      "drain_sim_th = 0.2\n",
      "drain_depth = 4\n",
      "drain_max_children = 100\n",
      "drain_max_clusters = None\n",
      "masking_instructions = [<drain3.masking.MaskingInstruction object at 0x7fe3af4c4da0>]\n",
      "mask_prefix = <\n",
      "mask_suffix = >\n"
     ]
    }
   ],
   "source": [
    "# init drain3 template miner with added drain3 parameter\n",
    "miner = TemplateMiner()\n",
    "\n",
    "print('Drain3 config:\\n')\n",
    "for k,v in vars(miner.config).items():\n",
    "    print(f'{k} = {v}')"
   ]
  },
  {
   "cell_type": "code",
   "execution_count": 12,
   "metadata": {},
   "outputs": [],
   "source": [
    "# mine templates\n",
    "for line in train_lines:\n",
    "    miner_result = miner.add_log_message(line)"
   ]
  },
  {
   "cell_type": "code",
   "execution_count": 13,
   "metadata": {},
   "outputs": [
    {
     "name": "stdout",
     "output_type": "stream",
     "text": [
      "ID=1     : size=537       : <TIMESTAMP> [notice] workerEnv.init() ok /etc/httpd/conf/workers2.properties\n",
      "\n",
      "ID=2     : size=519       : <TIMESTAMP> [error] <*> <*> <*> <*> <*> <*> <*>\n",
      "\n",
      "ID=3     : size=802       : <TIMESTAMP> [notice] jk2_init() Found child <*> in scoreboard slot <*>\n",
      "\n",
      "ID=4     : size=30        : <TIMESTAMP> [error] [client <*> Directory index forbidden by rule: /var/www/html/\n",
      "\n",
      "ID=5     : size=12        : <TIMESTAMP> [error] mod_jk child init 1 -2\n",
      "\n"
     ]
    }
   ],
   "source": [
    "# what are templates mined in this logfile\n",
    "for c in miner.drain.clusters:\n",
    "    print(c, end='\\n\\n')"
   ]
  },
  {
   "cell_type": "markdown",
   "metadata": {},
   "source": [
    "**RESULT** As we can see, setting the similarity threshold to a low value resulted in merging of two distinct log templates into one. Thus, arbitrarily updating the similarity threshold without properly understanding the domain can yield worse results.\n",
    "\n",
    "The default drain parameters are set based on the research authors' experiments, so they should generally work fine, but can also be tuned for optimal performance as shown in the above two sections."
   ]
  },
  {
   "cell_type": "markdown",
   "metadata": {},
   "source": [
    "## Match New Logs to Mined Templates (Inference)\n",
    "\n",
    "In the previous sections, we used the first 1900 lines in our logfile to mine the templates. Now we will use the last 100 lines to run inference. That is, we will match / bucket each unseen log line to one of the learned log templates."
   ]
  },
  {
   "cell_type": "code",
   "execution_count": 17,
   "metadata": {},
   "outputs": [
    {
     "name": "stdout",
     "output_type": "stream",
     "text": [
      "[Mon Dec 05 17:40:38 2005] [notice] jk2_init() Found child 6577 in scoreboard slot 7\n",
      "<TIMESTAMP> [notice] jk2_init() Found child <*> in scoreboard slot <*>\n",
      "\n",
      "[Mon Dec 05 17:40:38 2005] [notice] jk2_init() Found child 6578 in scoreboard slot 8\n",
      "<TIMESTAMP> [notice] jk2_init() Found child <*> in scoreboard slot <*>\n",
      "\n",
      "[Mon Dec 05 17:40:39 2005] [notice] workerEnv.init() ok /etc/httpd/conf/workers2.properties\n",
      "<TIMESTAMP> [notice] workerEnv.init() ok /etc/httpd/conf/workers2.properties\n",
      "\n",
      "[Mon Dec 05 17:40:39 2005] [error] mod_jk child workerEnv in error state 6\n",
      "<TIMESTAMP> [error] mod_jk child workerEnv in error state <*>\n",
      "\n",
      "[Mon Dec 05 17:40:39 2005] [notice] workerEnv.init() ok /etc/httpd/conf/workers2.properties\n",
      "<TIMESTAMP> [notice] workerEnv.init() ok /etc/httpd/conf/workers2.properties\n",
      "\n",
      "[Mon Dec 05 17:40:39 2005] [error] mod_jk child workerEnv in error state 6\n",
      "<TIMESTAMP> [error] mod_jk child workerEnv in error state <*>\n",
      "\n",
      "[Mon Dec 05 17:46:02 2005] [notice] jk2_init() Found child 6585 in scoreboard slot 7\n",
      "<TIMESTAMP> [notice] jk2_init() Found child <*> in scoreboard slot <*>\n",
      "\n",
      "[Mon Dec 05 17:46:02 2005] [notice] jk2_init() Found child 6586 in scoreboard slot 8\n",
      "<TIMESTAMP> [notice] jk2_init() Found child <*> in scoreboard slot <*>\n",
      "\n",
      "[Mon Dec 05 17:46:06 2005] [notice] workerEnv.init() ok /etc/httpd/conf/workers2.properties\n",
      "<TIMESTAMP> [notice] workerEnv.init() ok /etc/httpd/conf/workers2.properties\n",
      "\n",
      "[Mon Dec 05 17:46:06 2005] [notice] workerEnv.init() ok /etc/httpd/conf/workers2.properties\n",
      "<TIMESTAMP> [notice] workerEnv.init() ok /etc/httpd/conf/workers2.properties\n",
      "\n",
      "[Mon Dec 05 17:46:06 2005] [error] mod_jk child workerEnv in error state 6\n",
      "<TIMESTAMP> [error] mod_jk child workerEnv in error state <*>\n",
      "\n",
      "[Mon Dec 05 17:46:06 2005] [error] mod_jk child workerEnv in error state 6\n",
      "<TIMESTAMP> [error] mod_jk child workerEnv in error state <*>\n",
      "\n"
     ]
    }
   ],
   "source": [
    "# assign templates to new log lines\n",
    "results = []\n",
    "for line in test_lines:\n",
    "    results.append(miner.match(line))\n",
    "\n",
    "num_egs_to_display = 10\n",
    "for i, (line, template) in enumerate(zip(log_lines[-100:], results)):\n",
    "    print(line)\n",
    "    print(template.get_template())\n",
    "    print()\n",
    "\n",
    "    if i > num_egs_to_display:\n",
    "        break"
   ]
  }
 ],
 "metadata": {
  "kernelspec": {
   "display_name": "drain3demo",
   "language": "python",
   "name": "drain3demo"
  },
  "language_info": {
   "codemirror_mode": {
    "name": "ipython",
    "version": 3
   },
   "file_extension": ".py",
   "mimetype": "text/x-python",
   "name": "python",
   "nbconvert_exporter": "python",
   "pygments_lexer": "ipython3",
   "version": "3.6.3"
  }
 },
 "nbformat": 4,
 "nbformat_minor": 2
}
